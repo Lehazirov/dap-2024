{
  "nbformat": 4,
  "nbformat_minor": 0,
  "metadata": {
    "colab": {
      "provenance": [],
      "authorship_tag": "ABX9TyOF0dqQd5YQviw+2sN6emTt",
      "include_colab_link": true
    },
    "kernelspec": {
      "name": "python3",
      "display_name": "Python 3"
    },
    "language_info": {
      "name": "python"
    }
  },
  "cells": [
    {
      "cell_type": "markdown",
      "metadata": {
        "id": "view-in-github",
        "colab_type": "text"
      },
      "source": [
        "<a href=\"https://colab.research.google.com/github/Lehazirov/dap-2024/blob/main/rep.ipynb\" target=\"_parent\"><img src=\"https://colab.research.google.com/assets/colab-badge.svg\" alt=\"Open In Colab\"/></a>"
      ]
    },
    {
      "cell_type": "markdown",
      "source": [
        "# Выполните следующие задания:\n",
        "\n",
        "1. **Откройте файл в Google Colab**:\n",
        "   - Используйте собственный форк репозитория.\n",
        "\n",
        "2. **Решите задачи**:\n",
        "   - Задачи описаны ниже с предоставленными ссылками для каждой.\n",
        "\n",
        "3. **Сохраните результат в ваш репозиторий GitHub**:\n",
        "   - Сохраните выполненный файл в директорию `./les02` вашего репозитория.\n",
        "\n",
        "4. **Создайте pull request**:\n",
        "   - Отправьте pull request в репозиторий [https://github.com/chebotarevsa/dap-2024](https://github.com/chebotarevsa/dap-2024).\n",
        "   - Формат названия pull request: `<Номер лабораторной работы> <Номер группы> <ФИО>`.\n",
        "\n",
        "5. **Сдайте работу в системе \"Пегас\"**:\n",
        "   - В отчет укажите ссылку на созданный pull request."
      ],
      "metadata": {
        "id": "DvkDXp8QQxuo"
      }
    },
    {
      "cell_type": "markdown",
      "source": [
        "# Задача №1. https://leetcode.com/problems/two-sum/"
      ],
      "metadata": {
        "id": "A53rPXavPeOa"
      }
    },
    {
      "cell_type": "code",
      "execution_count": 3,
      "metadata": {
        "id": "zj5J4OL4Nz3n"
      },
      "outputs": [],
      "source": [
        "class Solution1(object):\n",
        "    def twoSum(self, nums, target):\n",
        "        num_map = {}\n",
        "        for i, num in enumerate(nums):\n",
        "            complement = target - num\n",
        "            if complement in num_map:\n",
        "                return [num_map[complement], i]\n",
        "            num_map[num] = i"
      ]
    },
    {
      "cell_type": "markdown",
      "source": [
        "# Задача №2. https://leetcode.com/problems/palindrome-number/description/"
      ],
      "metadata": {
        "id": "03BxNPB-PkDH"
      }
    },
    {
      "cell_type": "code",
      "source": [
        "class Solution2(object):\n",
        "    def isPalindrome(self, x):\n",
        "        if x < 0:\n",
        "            return False\n",
        "        return str(x) == str(x)[::-1]"
      ],
      "metadata": {
        "id": "y7GH_mocPnsv"
      },
      "execution_count": 4,
      "outputs": []
    },
    {
      "cell_type": "markdown",
      "source": [
        "# Задача №3. https://leetcode.com/problems/roman-to-integer/description/\n"
      ],
      "metadata": {
        "id": "_E-xxJ_4Prmf"
      }
    },
    {
      "cell_type": "code",
      "source": [
        "class Solution3(object):\n",
        "    def romanToInt(self, s):\n",
        "        roman_map = {\n",
        "            'I': 1, 'V': 5, 'X': 10, 'L': 50,\n",
        "            'C': 100, 'D': 500, 'M': 1000\n",
        "        }\n",
        "        total = 0\n",
        "        prev_value = 0\n",
        "        for char in s:\n",
        "            curr_value = roman_map[char]\n",
        "            if curr_value > prev_value:\n",
        "                total += curr_value - 2 * prev_value\n",
        "            else:\n",
        "                total += curr_value\n",
        "            prev_value = curr_value\n",
        "        return total\n"
      ],
      "metadata": {
        "id": "YSpJtvCAPt1n"
      },
      "execution_count": 5,
      "outputs": []
    },
    {
      "cell_type": "markdown",
      "source": [
        "# Задача №4. https://leetcode.com/problems/longest-common-prefix/description/\n"
      ],
      "metadata": {
        "id": "iYXt4mWjPwrH"
      }
    },
    {
      "cell_type": "code",
      "source": [
        "class Solution4(object):\n",
        "    def longestCommonPrefix(self, strs):\n",
        "        if not strs:\n",
        "            return \"\"\n",
        "        prefix = strs[0]\n",
        "        for string in strs[1:]:\n",
        "            while not string.startswith(prefix):\n",
        "                prefix = prefix[:-1]\n",
        "                if not prefix:\n",
        "                    return \"\"\n",
        "        return prefix\n"
      ],
      "metadata": {
        "id": "3yiKUyBpPylv"
      },
      "execution_count": 6,
      "outputs": []
    },
    {
      "cell_type": "markdown",
      "source": [
        "# Задача №5. https://leetcode.com/problems/merge-two-sorted-lists/description/\n"
      ],
      "metadata": {
        "id": "tgnLBLLoP0Xp"
      }
    },
    {
      "cell_type": "code",
      "source": [
        "class ListNode(object):\n",
        "    def __init__(self, val=0, next=None):\n",
        "        self.val = val\n",
        "        self.next = next\n",
        "\n",
        "class Solution5(object):\n",
        "    def mergeTwoLists(self, list1, list2):\n",
        "        dummy = ListNode()\n",
        "        current = dummy\n",
        "        while list1 and list2:\n",
        "            if list1.val < list2.val:\n",
        "                current.next = list1\n",
        "                list1 = list1.next\n",
        "            else:\n",
        "                current.next = list2\n",
        "                list2 = list2.next\n",
        "            current = current.next\n",
        "        if list1:\n",
        "            current.next = list1\n",
        "        else:\n",
        "            current.next = list2\n",
        "        return dummy.next\n"
      ],
      "metadata": {
        "id": "E7Wh5TrzP29k"
      },
      "execution_count": 7,
      "outputs": []
    },
    {
      "cell_type": "markdown",
      "source": [
        "# Задача №6. https://leetcode.com/problems/longest-substring-without-repeating-characters/description/\n"
      ],
      "metadata": {
        "id": "fe7ctTfZP8Rb"
      }
    },
    {
      "cell_type": "code",
      "source": [
        "class Solution6(object):\n",
        "    def lengthOfLongestSubstring(self, s):\n",
        "        char_map = {}\n",
        "        left = 0\n",
        "        max_length = 0\n",
        "        for right, char in enumerate(s):\n",
        "            if char in char_map and char_map[char] >= left:\n",
        "                left = char_map[char] + 1\n",
        "            char_map[char] = right\n",
        "            max_length = max(max_length, right - left + 1)\n",
        "        return max_length\n"
      ],
      "metadata": {
        "id": "U7QZdlRaP90h"
      },
      "execution_count": 8,
      "outputs": []
    },
    {
      "cell_type": "markdown",
      "source": [
        "# Вопросы\n",
        "1. Что такое динамическая типизация и чем она отличается от статической?\n",
        "2. Чем отличается цикл for в Python от цикла for в С++?\n",
        "3. Для чего предназначены операторы continue и break?\n",
        "4. Как определить функцию в python? Может ли функция возвращать несколько значений?\n",
        "5. Что такое лямбда функции и для чего они предназначены?\n",
        "6. Может ли тело функции содержать определение другой функции?\n",
        "7. Как определить класс в python? Для чего нужна переменная self?\n",
        "8. Как определить приватный метод? Можно ли вызвать приватный метод за пределами класса?\n",
        "9. Как определить статический метод класса? Для чего может понадобиться статический метод?\n",
        "10. Чем staticmethod отличается от classmethod?\n",
        "11. Как определить собственный класс исключений Python? Как выбросить и перехватить исключение?\n",
        "12. Что такое картеж, для чего он используется?"
      ],
      "metadata": {
        "id": "IIsuwGz8Q5p6"
      }
    }
  ]
}
