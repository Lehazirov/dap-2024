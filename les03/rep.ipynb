{
  "nbformat": 4,
  "nbformat_minor": 0,
  "metadata": {
    "colab": {
      "provenance": [],
      "authorship_tag": "ABX9TyMjA4Df7ybqMhXB+aVGLnia",
      "include_colab_link": true
    },
    "kernelspec": {
      "name": "python3",
      "display_name": "Python 3"
    },
    "language_info": {
      "name": "python"
    }
  },
  "cells": [
    {
      "cell_type": "markdown",
      "metadata": {
        "id": "view-in-github",
        "colab_type": "text"
      },
      "source": [
        "<a href=\"https://colab.research.google.com/github/Lehazirov/dap-2024/blob/main/rep.ipynb\" target=\"_parent\"><img src=\"https://colab.research.google.com/assets/colab-badge.svg\" alt=\"Open In Colab\"/></a>"
      ]
    },
    {
      "cell_type": "markdown",
      "source": [
        "# Лабораторная работа №3. NumPy\n",
        "# Задание\n",
        "Выполните следующие задания:\n",
        "\n",
        "1. Откройте в файл в Google Colab (используйте собственный форк репозитория).\n",
        "2. Решите задачи.\n",
        "3. Сохраните результат в ваш репозиторий github в директорию ./les03\n",
        "4. Создайте pull request в репозиторий https://github.com/chebotarevsa/dap-2024.\n",
        "5. Название pull request должно иметь формат \"<Номер лабораторной работы> <Номер группы> <ФИО>\"\n",
        "6. Сдайте работу в системе \"Пегас\", в отчет укажите ссылку на pull request"
      ],
      "metadata": {
        "id": "0qvUngzfc8x1"
      }
    },
    {
      "cell_type": "markdown",
      "source": [
        "## 1. Создать массив 10x10 со случайными значениями, найти минимум и максимум"
      ],
      "metadata": {
        "id": "anOrQsdYYH0y"
      }
    },
    {
      "cell_type": "code",
      "execution_count": 2,
      "metadata": {
        "colab": {
          "base_uri": "https://localhost:8080/"
        },
        "id": "WbOWyHKbXOXo",
        "outputId": "c0ca1bd5-456f-49a7-81cf-cef162ac803d"
      },
      "outputs": [
        {
          "output_type": "stream",
          "name": "stdout",
          "text": [
            "Созданный массив:\n",
            " [[96 71 26 76 45 52  5 38 71 10]\n",
            " [66 47 26 28 44 42 34 48 81 48]\n",
            " [41 49 53 66 43 13 86 62 98 23]\n",
            " [61 38 39 78 30 17  8 13 73 56]\n",
            " [48 44 81 10 43 15 48 76  6 50]\n",
            " [50 56 24 19 19 36 88 94  4  7]\n",
            " [53 54 34 52 94 21  8  2 84  8]\n",
            " [71 95 33 51 12 10 88  8 81 44]\n",
            " [53 90 90 59 87 80 97 60 33 84]\n",
            " [ 6 86 25 87 44 29 15 84 25 53]]\n",
            "\n",
            "Минимальное значение массива: 2\n",
            "Максимальное значение массива: 98\n"
          ]
        }
      ],
      "source": [
        "import numpy as np\n",
        "array = np.random.randint(1, 100, (10, 10))\n",
        "print(\"Созданный массив:\\n\", array)\n",
        "min_value = array.min()\n",
        "max_value = array.max()\n",
        "print(\"\\nМинимальное значение массива:\", min_value)\n",
        "print(\"Максимальное значение массива:\", max_value)"
      ]
    },
    {
      "cell_type": "markdown",
      "source": [
        "## 2. Создать 8x8 матрицу и заполнить её единицами и нулями в шахматном порядке"
      ],
      "metadata": {
        "id": "NBlv7_OMYlX_"
      }
    },
    {
      "cell_type": "code",
      "source": [
        "import numpy as np\n",
        "matrix = np.zeros((8, 8))\n",
        "matrix[::2, 1::2] = 1\n",
        "matrix[1::2, ::2] = 1\n",
        "print(\"Матрица в шахматном порядке:\\n\", matrix)"
      ],
      "metadata": {
        "colab": {
          "base_uri": "https://localhost:8080/"
        },
        "id": "OdHZ7rp7Y2UW",
        "outputId": "1f33f97f-26f0-4597-c47d-862fdb306fc0"
      },
      "execution_count": 3,
      "outputs": [
        {
          "output_type": "stream",
          "name": "stdout",
          "text": [
            "Матрица в шахматном порядке:\n",
            " [[0. 1. 0. 1. 0. 1. 0. 1.]\n",
            " [1. 0. 1. 0. 1. 0. 1. 0.]\n",
            " [0. 1. 0. 1. 0. 1. 0. 1.]\n",
            " [1. 0. 1. 0. 1. 0. 1. 0.]\n",
            " [0. 1. 0. 1. 0. 1. 0. 1.]\n",
            " [1. 0. 1. 0. 1. 0. 1. 0.]\n",
            " [0. 1. 0. 1. 0. 1. 0. 1.]\n",
            " [1. 0. 1. 0. 1. 0. 1. 0.]]\n"
          ]
        }
      ]
    },
    {
      "cell_type": "markdown",
      "source": [
        "## 3. Дан массив из 11 элементов, поменять знак у элементов, значения которых между 3 и 8"
      ],
      "metadata": {
        "id": "96SrW8lhZCQz"
      }
    },
    {
      "cell_type": "code",
      "source": [
        "import numpy as np\n",
        "z = np.arange(11)\n",
        "print(\"Исходный массив:\\n\", z)\n",
        "z[(z > 3) & (z < 8)] *= -1\n",
        "print(\"Результат:\\n\", z)\n"
      ],
      "metadata": {
        "colab": {
          "base_uri": "https://localhost:8080/"
        },
        "id": "3WKu4niuZEHZ",
        "outputId": "63e107ce-d193-40c6-afaa-7100957349a9"
      },
      "execution_count": 4,
      "outputs": [
        {
          "output_type": "stream",
          "name": "stdout",
          "text": [
            "Исходный массив:\n",
            " [ 0  1  2  3  4  5  6  7  8  9 10]\n",
            "Результат:\n",
            " [ 0  1  2  3 -4 -5 -6 -7  8  9 10]\n"
          ]
        }
      ]
    },
    {
      "cell_type": "markdown",
      "source": [
        "## 4. Найти среднее значение строки матрицы и вычесть его из каждого элемента строки\n"
      ],
      "metadata": {
        "id": "8AeKV82ZZJfF"
      }
    },
    {
      "cell_type": "code",
      "source": [
        "import numpy as np\n",
        "z = np.random.rand(5, 10)\n",
        "print(\"Исходная матрица:\\n\", z)\n",
        "means = np.mean(z, axis=1, keepdims=True)\n",
        "z -= means\n",
        "print(\"\\nСредние значения строк:\\n\", means.flatten())\n",
        "print(\"\\nРезультат:\\n\", z)\n"
      ],
      "metadata": {
        "colab": {
          "base_uri": "https://localhost:8080/"
        },
        "id": "Anh0xwL1ZLDD",
        "outputId": "65de1aaa-5a20-4851-fecf-83f7ee0cd2e2"
      },
      "execution_count": 5,
      "outputs": [
        {
          "output_type": "stream",
          "name": "stdout",
          "text": [
            "Исходная матрица:\n",
            " [[0.54821529 0.81187733 0.9451326  0.56490687 0.53999051 0.65485413\n",
            "  0.98512894 0.16701036 0.57035013 0.19115218]\n",
            " [0.3256708  0.95832567 0.54065842 0.03840587 0.23793715 0.1800465\n",
            "  0.84477375 0.10758256 0.2025184  0.31576778]\n",
            " [0.57472089 0.34988652 0.69083897 0.10860215 0.16863844 0.03055213\n",
            "  0.3093481  0.3726248  0.48282539 0.06697855]\n",
            " [0.49625662 0.27438261 0.41274533 0.29407505 0.31876592 0.79337075\n",
            "  0.66692024 0.56521705 0.90001081 0.19844796]\n",
            " [0.14541112 0.97800757 0.49119451 0.3815938  0.29498658 0.63951397\n",
            "  0.29117225 0.07648742 0.74673102 0.6603806 ]]\n",
            "\n",
            "Средние значения строк:\n",
            " [0.59786183 0.37516869 0.3155016  0.49201923 0.47054788]\n",
            "\n",
            "Результат:\n",
            " [[-0.04964654  0.21401549  0.34727077 -0.03295496 -0.05787132  0.0569923\n",
            "   0.38726711 -0.43085148 -0.0275117  -0.40670965]\n",
            " [-0.04949789  0.58315698  0.16548973 -0.33676282 -0.13723154 -0.19512219\n",
            "   0.46960506 -0.26758613 -0.17265029 -0.05940091]\n",
            " [ 0.25921929  0.03438493  0.37533738 -0.20689944 -0.14686315 -0.28494946\n",
            "  -0.00615349  0.0571232   0.1673238  -0.24852305]\n",
            " [ 0.00423738 -0.21763663 -0.07927391 -0.19794418 -0.17325332  0.30135152\n",
            "   0.17490101  0.07319782  0.40799158 -0.29357127]\n",
            " [-0.32513676  0.50745969  0.02064663 -0.08895409 -0.17556131  0.16896608\n",
            "  -0.17937564 -0.39406047  0.27618313  0.18983272]]\n"
          ]
        }
      ]
    },
    {
      "cell_type": "markdown",
      "source": [
        "## 5. Поменять 1 и 2 строки матрицы\n"
      ],
      "metadata": {
        "id": "KRJdkF_QZTnY"
      }
    },
    {
      "cell_type": "code",
      "source": [
        "import numpy as np\n",
        "z = np.arange(25).reshape(5, 5)\n",
        "print(\"Исходная матрица:\\n\", z)\n",
        "z[[0, 1]] = z[[1, 0]]\n",
        "print(\"\\nРезультат после замены строк:\\n\", z)\n"
      ],
      "metadata": {
        "colab": {
          "base_uri": "https://localhost:8080/"
        },
        "id": "s55yssvTZVr7",
        "outputId": "2f64b52b-11f9-4de9-dd2a-e3b416e53c95"
      },
      "execution_count": 6,
      "outputs": [
        {
          "output_type": "stream",
          "name": "stdout",
          "text": [
            "Исходная матрица:\n",
            " [[ 0  1  2  3  4]\n",
            " [ 5  6  7  8  9]\n",
            " [10 11 12 13 14]\n",
            " [15 16 17 18 19]\n",
            " [20 21 22 23 24]]\n",
            "\n",
            "Результат после замены строк:\n",
            " [[ 5  6  7  8  9]\n",
            " [ 0  1  2  3  4]\n",
            " [10 11 12 13 14]\n",
            " [15 16 17 18 19]\n",
            " [20 21 22 23 24]]\n"
          ]
        }
      ]
    },
    {
      "cell_type": "markdown",
      "source": [
        "## 6. Дан массив 10x2 подеставлющий собой точки в декартовой системе координат, преобразовать в полярную\n"
      ],
      "metadata": {
        "id": "NbXwCVBzZa24"
      }
    },
    {
      "cell_type": "code",
      "source": [
        "import numpy as np\n",
        "z = np.random.random((10, 2))\n",
        "print(\"Исходный массив точек:\\n\", z)\n",
        "r = np.sqrt(z[:, 0]**2 + z[:, 1]**2)\n",
        "theta = np.arctan2(z[:, 1], z[:, 0])\n",
        "print(\"\\nРадиусы (r):\\n\", r)\n",
        "print(\"\\nУглы (theta):\\n\", theta)\n"
      ],
      "metadata": {
        "colab": {
          "base_uri": "https://localhost:8080/"
        },
        "id": "XlfqCFCqZbuw",
        "outputId": "06df851f-2e2a-454b-9098-e312fcf6db90"
      },
      "execution_count": 7,
      "outputs": [
        {
          "output_type": "stream",
          "name": "stdout",
          "text": [
            "Исходный массив точек:\n",
            " [[0.05634967 0.80068542]\n",
            " [0.82441517 0.02637187]\n",
            " [0.93403693 0.20210772]\n",
            " [0.10064135 0.19041959]\n",
            " [0.22372309 0.69571495]\n",
            " [0.01725901 0.49196475]\n",
            " [0.26142405 0.95006701]\n",
            " [0.88992934 0.55755156]\n",
            " [0.69836857 0.48761944]\n",
            " [0.30744176 0.95532366]]\n",
            "\n",
            "Радиусы (r):\n",
            " [0.80266582 0.82483686 0.95565293 0.21537944 0.73080183 0.49226739\n",
            " 0.98537802 1.05016092 0.85175781 1.00357548]\n",
            "\n",
            "Углы (theta):\n",
            " [1.50053538 0.03197767 0.21309564 1.08459065 1.25966722 1.5357289\n",
            " 1.30227784 0.55968598 0.6095347  1.25944379]\n"
          ]
        }
      ]
    },
    {
      "cell_type": "markdown",
      "source": [
        "## 7. Заменить максимальный элемент массива на ноль\n"
      ],
      "metadata": {
        "id": "MDpgfpUjZsgW"
      }
    },
    {
      "cell_type": "code",
      "source": [
        "import numpy as np\n",
        "z = np.random.random(10)\n",
        "print(\"Исходный массив:\\n\", z)\n",
        "z[z.argmax()] = 0\n",
        "print(\"\\nРезультат:\\n\", z)\n"
      ],
      "metadata": {
        "colab": {
          "base_uri": "https://localhost:8080/"
        },
        "id": "IpocEY73Ztd0",
        "outputId": "572671f7-0316-4411-a6ac-6b68406ed537"
      },
      "execution_count": 8,
      "outputs": [
        {
          "output_type": "stream",
          "name": "stdout",
          "text": [
            "Исходный массив:\n",
            " [0.92260692 0.36666481 0.59449268 0.38466312 0.60163469 0.17101083\n",
            " 0.89822398 0.1441706  0.55754396 0.97485567]\n",
            "\n",
            "Результат:\n",
            " [0.92260692 0.36666481 0.59449268 0.38466312 0.60163469 0.17101083\n",
            " 0.89822398 0.1441706  0.55754396 0.        ]\n"
          ]
        }
      ]
    },
    {
      "cell_type": "markdown",
      "source": [
        "## 8. Дан массив, добавить 1 к каждому элементу с индексом, заданным в другом массиве. Добавление производиться только 1 раз\n"
      ],
      "metadata": {
        "id": "Q1YBeUVxZxpO"
      }
    },
    {
      "cell_type": "code",
      "source": [
        "import numpy as np\n",
        "z = np.ones(10)\n",
        "i = np.random.randint(0, len(z), 20)\n",
        "np.add.at(z, i, 1)\n",
        "print(\"Результат:\\n\", z)\n"
      ],
      "metadata": {
        "colab": {
          "base_uri": "https://localhost:8080/"
        },
        "id": "YB53ijfZZyq5",
        "outputId": "e3bd1ebf-3d73-4e51-e380-f6ac289b3e85"
      },
      "execution_count": 9,
      "outputs": [
        {
          "output_type": "stream",
          "name": "stdout",
          "text": [
            "Результат:\n",
            " [1. 2. 6. 1. 4. 3. 3. 3. 5. 2.]\n"
          ]
        }
      ]
    },
    {
      "cell_type": "markdown",
      "source": [
        "## 9. Дан вектор [1, 2, 3, 4, 5], построить новый вектор с тремя нулями между каждым значением\n"
      ],
      "metadata": {
        "id": "sJU4SIm3aEKi"
      }
    },
    {
      "cell_type": "code",
      "source": [
        "import numpy as np\n",
        "z = np.array([1, 2, 3, 4, 5])\n",
        "print(\"Исходный вектор:\\n\", z)\n",
        "z_new = np.zeros(len(z) * 4 - 3)\n",
        "z_new[::4] = z\n",
        "print(\"\\nРезультат:\\n\", z_new)\n"
      ],
      "metadata": {
        "colab": {
          "base_uri": "https://localhost:8080/"
        },
        "id": "sK02JCklaFA-",
        "outputId": "fe026b46-f299-4983-80ef-02fbdecf6353"
      },
      "execution_count": 10,
      "outputs": [
        {
          "output_type": "stream",
          "name": "stdout",
          "text": [
            "Исходный вектор:\n",
            " [1 2 3 4 5]\n",
            "\n",
            "Результат:\n",
            " [1. 0. 0. 0. 2. 0. 0. 0. 3. 0. 0. 0. 4. 0. 0. 0. 5.]\n"
          ]
        }
      ]
    },
    {
      "cell_type": "markdown",
      "source": [
        "## 10. Найти ближайшее к заданному значению число в заданном массиве\n"
      ],
      "metadata": {
        "id": "TbHb6ZvJaIxY"
      }
    },
    {
      "cell_type": "code",
      "source": [
        "import numpy as np\n",
        "z = np.arange(100)\n",
        "v = np.random.uniform(0, 100)\n",
        "print(\"Заданный массив:\\n\", z)\n",
        "print(\"\\nЗаданное число:\\n\", v)\n",
        "closest = z[np.abs(z - v).argmin()]\n",
        "print(\"\\nБлижайшее число:\\n\", closest)\n"
      ],
      "metadata": {
        "colab": {
          "base_uri": "https://localhost:8080/"
        },
        "id": "BJjzUJvwaJqG",
        "outputId": "c1c6c818-4301-454b-a373-b89f9002e887"
      },
      "execution_count": 11,
      "outputs": [
        {
          "output_type": "stream",
          "name": "stdout",
          "text": [
            "Заданный массив:\n",
            " [ 0  1  2  3  4  5  6  7  8  9 10 11 12 13 14 15 16 17 18 19 20 21 22 23\n",
            " 24 25 26 27 28 29 30 31 32 33 34 35 36 37 38 39 40 41 42 43 44 45 46 47\n",
            " 48 49 50 51 52 53 54 55 56 57 58 59 60 61 62 63 64 65 66 67 68 69 70 71\n",
            " 72 73 74 75 76 77 78 79 80 81 82 83 84 85 86 87 88 89 90 91 92 93 94 95\n",
            " 96 97 98 99]\n",
            "\n",
            "Заданное число:\n",
            " 64.10309252711936\n",
            "\n",
            "Ближайшее число:\n",
            " 64\n"
          ]
        }
      ]
    },
    {
      "cell_type": "markdown",
      "source": [
        "# Вопросы\n",
        "1. Какой тип (dtype) будут иметь элементы массива?\n",
        "\n",
        "np.array([1, 4, 2, 5, 3])   \n",
        "np.array([1., 4, 2, 5, 3])   \n",
        "np.array([1, 4, 2, 5, 3], dtype='float128')   \n",
        "np.array([1., 4, 2, 5, 3], dtype='complex128')   \n",
        "np.array([1, 4, 2, 5, 3], dtype ='float64')   \n",
        "np.array([1, 4, 2, 5, 3], dtype =int64)   \n",
        "np.array([1, 4, 2, 5, 3], dtype='bool')   \n",
        "np.array([1, 4, 2, 5, 3], dtype='str')   \n",
        "np.array([1, 4, 2, 5, '3'])   \n",
        "np.array([1, -4, 2, 0, 1j])   \n",
        "2. Что будет выведено в консоль и почему?\n",
        "\n",
        "np.array([1, 4, 2, 5, 3], dtype='str')[1] + '1'   \n",
        "np.array([1, -4, 2, 0, 3], dtype='bool')[3] or np.array([1, -4, 2, 0, 3])[1]   \n",
        "np.array([1, -4, 2, 0, 3], dtype='bool')[3] and np.array([1, -4, 2, 0, 3])[1]   \n",
        "np.array([1, -4, 2, 0, True], dtype='int64')[-1]   \n",
        "np.array([1, -4, 2, 0, 1j], dtype='int64')[1]   \n",
        "np.array([1, -4, 2, 0, 1j], dtype='str')[-1]   \n",
        "np.array([1, 4, 2, 5, '3'])[-1] * 3   \n",
        "3. Каков результат операции?\n",
        "\n",
        "np.ones((3, 5), dtype=float)   \n",
        "np.full((3, 5), 3.14)   \n",
        "np.linspace(0, 1, 5)   \n",
        "np.diag((1,3,5))   \n",
        "np.smile((1,3,5))   \n",
        "np.random.random((3, 3))   \n",
        "np.eye(3)   \n",
        "np.empty(3)   \n",
        "4. Дан двумерный массив X, что будет выведено в консоль?\n",
        "\n",
        "X = np.array([[3, 5, 2, 4],   \n",
        "      [7, 6, 8, 8],   \n",
        "      [1, 6, 7, 7]])   \n",
        "\n",
        "X[0,0]   \n",
        "X[-1,-1]   \n",
        "X[0:1,-1]   \n",
        "X[0:2,-1]   \n",
        "X[0:2,0:2]   \n",
        "X[1,1:3]   \n",
        "X[1,:]   \n",
        "X[1,:]   \n",
        "X[:,:]   \n",
        "X[:]   \n",
        "X[::2,::2]   \n",
        "X[0:3:2,0:3:2]   \n",
        "X[::-1,::-1]   \n",
        "5. Дан двумерный массив grid, в чем различее между операциями?\n",
        "\n",
        "grid = np.arange(16).reshape((4, 4))   \n",
        "np.split(grid, [2])   \n",
        "np.split(grid, [2], axis=1)   \n",
        "6. В чем различие между операциями?\n",
        "\n",
        "[1, 2, 3] + [3, 2, 1]   \n",
        "    np.array([1, 2, 3]) + np.array([3, 2, 1])   \n",
        "7. Как в CodeLab измерить время выполнения кода?\n",
        "\n",
        "8. Дан массив X, каковы результаты операций?\n",
        "\n",
        "X = np.array([[3, 5, 2, 4],   \n",
        "      [7, 6, 8, 8],   \n",
        "      [1, 6, 7, 7]])   \n",
        "\n",
        "np.sum(M)   \n",
        "np.sum(M, axis=1)   \n",
        "np.sum(M, axis=0)   \n",
        "np.sum(M, axis=2)   \n",
        "np.sum(M, 1)   \n",
        "sum(M)   \n",
        "sum(M,1)   \n",
        "9. Дан массив X, что будет выведено в консоль?\n",
        "\n",
        "X = np.array([1,2,3,4])   \n",
        "\n",
        "X > 3   \n",
        "X < 3   \n",
        "X[X < 3]   \n",
        "X[X > 3]   \n",
        "X[X != 3]   \n",
        "10. В чем преимущество массивов NumPy по сравнению с обычными списками. Чем обусловлено это преимущество?"
      ],
      "metadata": {
        "id": "DOwYs10FasSR"
      }
    }
  ]
}
